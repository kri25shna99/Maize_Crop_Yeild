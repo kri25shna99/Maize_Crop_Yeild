{
 "cells": [
  {
   "cell_type": "markdown",
   "metadata": {
    "id": "tew30NMA0aEb"
   },
   "source": [
    "# Introduction\n",
    "\n",
    "This notebook is a 'quick-start' for the [CGIAR Crop Yield Prediction Challenge](https://zindi.africa/competitions/cgiar-crop-yield-prediction-challenge). We'll take a look at the data, fit a quick model and make a submission, with hints at each stage for extra options to investigate.\n",
    "\n",
    "Let's dive in!"
   ]
  },
  {
   "cell_type": "markdown",
   "metadata": {
    "id": "VxwG6ebv0cPi"
   },
   "source": [
    "# Setup\n",
    "\n",
    "You can get the zip files from Zindi or add to your Google drive using the following links:\n",
    "\n",
    "Test data: https://drive.google.com/file/d/1yTEgzn8JJn0mZmJ7NDUbwAB1WSzwRScB/view?usp=sharing\n",
    "\n",
    "Training data: \n",
    "https://drive.google.com/file/d/1-0UNiBpvfdRq8rgUC3Kb22YPWP_YnoKj/view?usp=sharing\n",
    "\n",
    "You'll also need the smaller files from Zindi (Train.csv, SampleSubmission.csv and bandnames.txt) which you can just upload using the files tab."
   ]
  },
  {
   "cell_type": "code",
   "execution_count": 38,
   "metadata": {},
   "outputs": [
    {
     "name": "stdout",
     "output_type": "stream",
     "text": [
      "/Users/krishnapatel/MyDesk/Internship2021\n"
     ]
    }
   ],
   "source": [
    "cd /Users/krishnapatel/MyDesk/Internship2021"
   ]
  },
  {
   "cell_type": "code",
   "execution_count": 39,
   "metadata": {
    "id": "KUPfiZYP0V9j"
   },
   "outputs": [
    {
     "name": "stdout",
     "output_type": "stream",
     "text": [
      "cp: ./image_arrays_train.zip and image_arrays_train.zip are identical (not copied).\n",
      "cp: ./image_arrays_test.zip and image_arrays_test.zip are identical (not copied).\n"
     ]
    }
   ],
   "source": [
    "# Copying in the zip files from Google Drive (alternately just upload them)\n",
    "!cp 'image_arrays_train.zip' .\n",
    "!cp 'image_arrays_test.zip' ."
   ]
  },
  {
   "cell_type": "code",
   "execution_count": 40,
   "metadata": {
    "id": "hBJflFRl01eb"
   },
   "outputs": [],
   "source": [
    "# Extract\n",
    "#!unzip -q image_arrays_train.zip\n",
    "#!unzip -q image_arrays_test.zip"
   ]
  },
  {
   "cell_type": "code",
   "execution_count": 41,
   "metadata": {
    "colab": {
     "base_uri": "https://localhost:8080/",
     "height": 34
    },
    "id": "CMJopyhk04j0",
    "outputId": "2c5ac601-d46f-413d-f1bc-a6d7d6893da1"
   },
   "outputs": [
    {
     "name": "stdout",
     "output_type": "stream",
     "text": [
      "Corr_Skew.csv                correlation1.csv\r\n",
      "SampleSubmission.csv         fields_w_additional_info.csv\r\n",
      "Sub.csv                      isnull.csv\r\n",
      "Train.csv                    sample.csv\r\n",
      "X2.csv                       sample1.csv\r\n",
      "X3.csv                       skewness.csv\r\n",
      "correlation.csv              test_field_ids_with_year.csv\r\n"
     ]
    }
   ],
   "source": [
    "# Check the CSV files are present\n",
    "!ls *.csv # Upload through the files menu"
   ]
  },
  {
   "cell_type": "code",
   "execution_count": 42,
   "metadata": {
    "colab": {
     "base_uri": "https://localhost:8080/",
     "height": 34
    },
    "id": "-eUeUdHwKyZd",
    "outputId": "32c8b0d6-afce-443b-d74d-31815129c9f0"
   },
   "outputs": [
    {
     "name": "stdout",
     "output_type": "stream",
     "text": [
      "bandnames.txt\r\n"
     ]
    }
   ],
   "source": [
    "# Check for bandnames.txt\n",
    "!ls *.txt"
   ]
  },
  {
   "cell_type": "markdown",
   "metadata": {
    "id": "2jJ52BFS1Gxn"
   },
   "source": [
    "# Loading the data\n",
    "\n",
    "The data isn't a simple table - instead we must read the inputs from individual .npy files. Here we'll load the dataframes, open a file or two and take a look at the format."
   ]
  },
  {
   "cell_type": "code",
   "execution_count": 43,
   "metadata": {
    "id": "TTWgteym1IMD"
   },
   "outputs": [],
   "source": [
    "import pandas as pd\n",
    "import numpy as np\n",
    "from matplotlib import pyplot as plt"
   ]
  },
  {
   "cell_type": "code",
   "execution_count": 44,
   "metadata": {
    "colab": {
     "base_uri": "https://localhost:8080/",
     "height": 212
    },
    "id": "9zX6spSW1Na1",
    "outputId": "c630c20b-d2fe-4333-df6d-7c238abb3f44"
   },
   "outputs": [
    {
     "name": "stdout",
     "output_type": "stream",
     "text": [
      "(2977, 4)\n"
     ]
    },
    {
     "data": {
      "text/html": [
       "<div>\n",
       "<style scoped>\n",
       "    .dataframe tbody tr th:only-of-type {\n",
       "        vertical-align: middle;\n",
       "    }\n",
       "\n",
       "    .dataframe tbody tr th {\n",
       "        vertical-align: top;\n",
       "    }\n",
       "\n",
       "    .dataframe thead th {\n",
       "        text-align: right;\n",
       "    }\n",
       "</style>\n",
       "<table border=\"1\" class=\"dataframe\">\n",
       "  <thead>\n",
       "    <tr style=\"text-align: right;\">\n",
       "      <th></th>\n",
       "      <th>Field_ID</th>\n",
       "      <th>Year</th>\n",
       "      <th>Quality</th>\n",
       "      <th>Yield</th>\n",
       "    </tr>\n",
       "  </thead>\n",
       "  <tbody>\n",
       "    <tr>\n",
       "      <th>0</th>\n",
       "      <td>MH2O0YH</td>\n",
       "      <td>2019</td>\n",
       "      <td>3</td>\n",
       "      <td>3.686</td>\n",
       "    </tr>\n",
       "    <tr>\n",
       "      <th>1</th>\n",
       "      <td>O9TURWL</td>\n",
       "      <td>2019</td>\n",
       "      <td>2</td>\n",
       "      <td>5.657</td>\n",
       "    </tr>\n",
       "    <tr>\n",
       "      <th>2</th>\n",
       "      <td>35AFSDD</td>\n",
       "      <td>2019</td>\n",
       "      <td>3</td>\n",
       "      <td>3.082</td>\n",
       "    </tr>\n",
       "    <tr>\n",
       "      <th>3</th>\n",
       "      <td>PM05EG9</td>\n",
       "      <td>2019</td>\n",
       "      <td>2</td>\n",
       "      <td>2.707</td>\n",
       "    </tr>\n",
       "    <tr>\n",
       "      <th>4</th>\n",
       "      <td>V7PZBCG</td>\n",
       "      <td>2019</td>\n",
       "      <td>2</td>\n",
       "      <td>2.679</td>\n",
       "    </tr>\n",
       "  </tbody>\n",
       "</table>\n",
       "</div>"
      ],
      "text/plain": [
       "  Field_ID  Year  Quality  Yield\n",
       "0  MH2O0YH  2019        3  3.686\n",
       "1  O9TURWL  2019        2  5.657\n",
       "2  35AFSDD  2019        3  3.082\n",
       "3  PM05EG9  2019        2  2.707\n",
       "4  V7PZBCG  2019        2  2.679"
      ]
     },
     "execution_count": 44,
     "metadata": {},
     "output_type": "execute_result"
    }
   ],
   "source": [
    "# Train.csv has the Field_IDs needed to find the npy files\n",
    "train = pd.read_csv('Train.csv')\n",
    "print(train.shape)\n",
    "train.head()"
   ]
  },
  {
   "cell_type": "code",
   "execution_count": 45,
   "metadata": {
    "colab": {
     "base_uri": "https://localhost:8080/",
     "height": 318
    },
    "id": "aNf1PvDm1D_C",
    "outputId": "1227a99f-d483-4fc5-a654-01dac1eed422"
   },
   "outputs": [
    {
     "name": "stdout",
     "output_type": "stream",
     "text": [
      "Loading image_arrays_train/6HTJQ1G.npy as an array\n",
      "Array shape: (360, 42, 41)\n"
     ]
    },
    {
     "data": {
      "text/plain": [
       "<matplotlib.image.AxesImage at 0x7fb9ba467e90>"
      ]
     },
     "execution_count": 45,
     "metadata": {},
     "output_type": "execute_result"
    },
    {
     "data": {
      "image/png": "[encoded data removed]",
      "text/plain": [
       "<Figure size 432x288 with 1 Axes>"
      ]
     },
     "metadata": {
      "needs_background": "light"
     },
     "output_type": "display_data"
    }
   ],
   "source": [
    "# Look at a sample:\n",
    "fid = train['Field_ID'].sample().values[0]\n",
    "fn = f'image_arrays_train/{fid}.npy' # File name based on Field_ID\n",
    "print(f'Loading {fn} as an array')\n",
    "arr = np.load(fn) # Loading the data with numpy\n",
    "print('Array shape:', arr.shape) # 360 bands, images 40 or 41px a side\n",
    "rgb_jan = np.stack([arr[4], arr[3], arr[2]], axis=-1) # Combine three bands for viewing\n",
    "rgb_jan = rgb_jan / np.max(rgb_jan) # Scale band values to (0, 1) for easy image display\n",
    "plt.imshow(rgb_jan) # View with matplotlib"
   ]
  },
  {
   "cell_type": "code",
   "execution_count": 46,
   "metadata": {
    "colab": {
     "base_uri": "https://localhost:8080/",
     "height": 499
    },
    "id": "TK-yAAnq2CHn",
    "outputId": "ec1f05d3-4529-42ef-a78e-d8a3c2765be4"
   },
   "outputs": [
    {
     "data": {
      "image/png": "[encoded data removed]",
      "text/plain": [
       "<Figure size 864x576 with 12 Axes>"
      ]
     },
     "metadata": {},
     "output_type": "display_data"
    }
   ],
   "source": [
    "# View false colour images from each month in the year:\n",
    "fig, axs = plt.subplots(3, 4, figsize=(12, 8), facecolor='w', edgecolor='k')\n",
    "fig.subplots_adjust(hspace = .5, wspace=.001)\n",
    "axs = axs.ravel()\n",
    "for i in range(12):\n",
    "  rgb = np.stack([arr[i*30 + 8], arr[i*30 + 4], arr[i*30 + 3]], axis=-1) # False colour (band 8, 4 and 3)\n",
    "  rgb = rgb / 4000 # Scaling consistently \n",
    "  axs[i].imshow(rgb.clip(0, 1))\n",
    "  axs[i].set_title(str(i+1))"
   ]
  },
  {
   "cell_type": "markdown",
   "metadata": {
    "id": "gMmd84DTR07r"
   },
   "source": [
    "What's with the white fluffy stuff? These are clouds - the bane of all remote sensing analysts..."
   ]
  },
  {
   "cell_type": "code",
   "execution_count": 47,
   "metadata": {
    "colab": {
     "base_uri": "https://localhost:8080/",
     "height": 499
    },
    "id": "dDdXl1xz3gkM",
    "outputId": "c49711e9-a827-497e-8235-044b7122f4a2",
    "scrolled": true
   },
   "outputs": [
    {
     "data": {
      "image/png": "[encoded data removed]",
      "text/plain": [
       "<Figure size 864x576 with 12 Axes>"
      ]
     },
     "metadata": {},
     "output_type": "display_data"
    }
   ],
   "source": [
    "# Show the SWIR band (B12) where clouds have a high reflectance\n",
    "fig, axs = plt.subplots(3, 4, figsize=(12, 8), facecolor='w', edgecolor='k')\n",
    "fig.subplots_adjust(hspace = .5, wspace=.001)\n",
    "axs = axs.ravel()\n",
    "for i in range(12):\n",
    "  cloud = arr[i*30 + 11]\n",
    "  axs[i].imshow(cloud, vmin=0, vmax=4000)\n",
    "  axs[i].set_title(str(i+1))"
   ]
  },
  {
   "cell_type": "markdown",
   "metadata": {
    "id": "PwQs-Nw753Cx"
   },
   "source": [
    "# Sampling from the images\n",
    "\n",
    "There are some hard-coded band indexes in the examples above that won't have made sense - how did we know which bands were which?\n",
    "There are 30 bands for each month. You can see the full list of bands with:"
   ]
  },
  {
   "cell_type": "code",
   "execution_count": 48,
   "metadata": {
    "colab": {
     "base_uri": "https://localhost:8080/",
     "height": 54
    },
    "id": "q02RjjC3ETIF",
    "outputId": "79b489b2-7405-4d64-e9ca-602b79ffb774"
   },
   "outputs": [
    {
     "name": "stdout",
     "output_type": "stream",
     "text": [
      "['0_S2_B1', '0_S2_B2', '0_S2_B3', '0_S2_B4', '0_S2_B5', '0_S2_B6', '0_S2_B7', '0_S2_B8', '0_S2_B8A', '0_S2_B9', '0_S2_B10', '0_S2_B11', '0_S2_B12', '0_S2_QA10', '0_S2_QA20', '0_S2_QA60', '0_CLIM_aet', '0_CLIM_def', '0_CLIM_pdsi', '0_CLIM_pet', '0_CLIM_pr', '0_CLIM_ro', '0_CLIM_soil', '0_CLIM_srad', '0_CLIM_swe', '0_CLIM_tmmn', '0_CLIM_tmmx', '0_CLIM_vap', '0_CLIM_vpd', '0_CLIM_vs', '1_S2_B1', '1_S2_B2', '1_S2_B3', '1_S2_B4', '1_S2_B5', '1_S2_B6', '1_S2_B7', '1_S2_B8', '1_S2_B8A', '1_S2_B9', '1_S2_B10', '1_S2_B11', '1_S2_B12', '1_S2_QA10', '1_S2_QA20', '1_S2_QA60', '1_CLIM_aet', '1_CLIM_def', '1_CLIM_pdsi', '1_CLIM_pet', '1_CLIM_pr', '1_CLIM_ro', '1_CLIM_soil', '1_CLIM_srad', '1_CLIM_swe', '1_CLIM_tmmn', '1_CLIM_tmmx', '1_CLIM_vap', '1_CLIM_vpd', '1_CLIM_vs', '2_S2_B1', '2_S2_B2', '2_S2_B3', '2_S2_B4', '2_S2_B5', '2_S2_B6', '2_S2_B7', '2_S2_B8', '2_S2_B8A', '2_S2_B9', '2_S2_B10', '2_S2_B11', '2_S2_B12', '2_S2_QA10', '2_S2_QA20', '2_S2_QA60', '2_CLIM_aet', '2_CLIM_def', '2_CLIM_pdsi', '2_CLIM_pet', '2_CLIM_pr', '2_CLIM_ro', '2_CLIM_soil', '2_CLIM_srad', '2_CLIM_swe', '2_CLIM_tmmn', '2_CLIM_tmmx', '2_CLIM_vap', '2_CLIM_vpd', '2_CLIM_vs', '3_S2_B1', '3_S2_B2', '3_S2_B3', '3_S2_B4', '3_S2_B5', '3_S2_B6', '3_S2_B7', '3_S2_B8', '3_S2_B8A', '3_S2_B9', '3_S2_B10', '3_S2_B11', '3_S2_B12', '3_S2_QA10', '3_S2_QA20', '3_S2_QA60', '3_CLIM_aet', '3_CLIM_def', '3_CLIM_pdsi', '3_CLIM_pet', '3_CLIM_pr', '3_CLIM_ro', '3_CLIM_soil', '3_CLIM_srad', '3_CLIM_swe', '3_CLIM_tmmn', '3_CLIM_tmmx', '3_CLIM_vap', '3_CLIM_vpd', '3_CLIM_vs', '4_S2_B1', '4_S2_B2', '4_S2_B3', '4_S2_B4', '4_S2_B5', '4_S2_B6', '4_S2_B7', '4_S2_B8', '4_S2_B8A', '4_S2_B9', '4_S2_B10', '4_S2_B11', '4_S2_B12', '4_S2_QA10', '4_S2_QA20', '4_S2_QA60', '4_CLIM_aet', '4_CLIM_def', '4_CLIM_pdsi', '4_CLIM_pet', '4_CLIM_pr', '4_CLIM_ro', '4_CLIM_soil', '4_CLIM_srad', '4_CLIM_swe', '4_CLIM_tmmn', '4_CLIM_tmmx', '4_CLIM_vap', '4_CLIM_vpd', '4_CLIM_vs', '5_S2_B1', '5_S2_B2', '5_S2_B3', '5_S2_B4', '5_S2_B5', '5_S2_B6', '5_S2_B7', '5_S2_B8', '5_S2_B8A', '5_S2_B9', '5_S2_B10', '5_S2_B11', '5_S2_B12', '5_S2_QA10', '5_S2_QA20', '5_S2_QA60', '5_CLIM_aet', '5_CLIM_def', '5_CLIM_pdsi', '5_CLIM_pet', '5_CLIM_pr', '5_CLIM_ro', '5_CLIM_soil', '5_CLIM_srad', '5_CLIM_swe', '5_CLIM_tmmn', '5_CLIM_tmmx', '5_CLIM_vap', '5_CLIM_vpd', '5_CLIM_vs', '6_S2_B1', '6_S2_B2', '6_S2_B3', '6_S2_B4', '6_S2_B5', '6_S2_B6', '6_S2_B7', '6_S2_B8', '6_S2_B8A', '6_S2_B9', '6_S2_B10', '6_S2_B11', '6_S2_B12', '6_S2_QA10', '6_S2_QA20', '6_S2_QA60', '6_CLIM_aet', '6_CLIM_def', '6_CLIM_pdsi', '6_CLIM_pet', '6_CLIM_pr', '6_CLIM_ro', '6_CLIM_soil', '6_CLIM_srad', '6_CLIM_swe', '6_CLIM_tmmn', '6_CLIM_tmmx', '6_CLIM_vap', '6_CLIM_vpd', '6_CLIM_vs', '7_S2_B1', '7_S2_B2', '7_S2_B3', '7_S2_B4', '7_S2_B5', '7_S2_B6', '7_S2_B7', '7_S2_B8', '7_S2_B8A', '7_S2_B9', '7_S2_B10', '7_S2_B11', '7_S2_B12', '7_S2_QA10', '7_S2_QA20', '7_S2_QA60', '7_CLIM_aet', '7_CLIM_def', '7_CLIM_pdsi', '7_CLIM_pet', '7_CLIM_pr', '7_CLIM_ro', '7_CLIM_soil', '7_CLIM_srad', '7_CLIM_swe', '7_CLIM_tmmn', '7_CLIM_tmmx', '7_CLIM_vap', '7_CLIM_vpd', '7_CLIM_vs', '8_S2_B1', '8_S2_B2', '8_S2_B3', '8_S2_B4', '8_S2_B5', '8_S2_B6', '8_S2_B7', '8_S2_B8', '8_S2_B8A', '8_S2_B9', '8_S2_B10', '8_S2_B11', '8_S2_B12', '8_S2_QA10', '8_S2_QA20', '8_S2_QA60', '8_CLIM_aet', '8_CLIM_def', '8_CLIM_pdsi', '8_CLIM_pet', '8_CLIM_pr', '8_CLIM_ro', '8_CLIM_soil', '8_CLIM_srad', '8_CLIM_swe', '8_CLIM_tmmn', '8_CLIM_tmmx', '8_CLIM_vap', '8_CLIM_vpd', '8_CLIM_vs', '9_S2_B1', '9_S2_B2', '9_S2_B3', '9_S2_B4', '9_S2_B5', '9_S2_B6', '9_S2_B7', '9_S2_B8', '9_S2_B8A', '9_S2_B9', '9_S2_B10', '9_S2_B11', '9_S2_B12', '9_S2_QA10', '9_S2_QA20', '9_S2_QA60', '9_CLIM_aet', '9_CLIM_def', '9_CLIM_pdsi', '9_CLIM_pet', '9_CLIM_pr', '9_CLIM_ro', '9_CLIM_soil', '9_CLIM_srad', '9_CLIM_swe', '9_CLIM_tmmn', '9_CLIM_tmmx', '9_CLIM_vap', '9_CLIM_vpd', '9_CLIM_vs', '10_S2_B1', '10_S2_B2', '10_S2_B3', '10_S2_B4', '10_S2_B5', '10_S2_B6', '10_S2_B7', '10_S2_B8', '10_S2_B8A', '10_S2_B9', '10_S2_B10', '10_S2_B11', '10_S2_B12', '10_S2_QA10', '10_S2_QA20', '10_S2_QA60', '10_CLIM_aet', '10_CLIM_def', '10_CLIM_pdsi', '10_CLIM_pet', '10_CLIM_pr', '10_CLIM_ro', '10_CLIM_soil', '10_CLIM_srad', '10_CLIM_swe', '10_CLIM_tmmn', '10_CLIM_tmmx', '10_CLIM_vap', '10_CLIM_vpd', '10_CLIM_vs', '11_S2_B1', '11_S2_B2', '11_S2_B3', '11_S2_B4', '11_S2_B5', '11_S2_B6', '11_S2_B7', '11_S2_B8', '11_S2_B8A', '11_S2_B9', '11_S2_B10', '11_S2_B11', '11_S2_B12', '11_S2_QA10', '11_S2_QA20', '11_S2_QA60', '11_CLIM_aet', '11_CLIM_def', '11_CLIM_pdsi', '11_CLIM_pet', '11_CLIM_pr', '11_CLIM_ro', '11_CLIM_soil', '11_CLIM_srad', '11_CLIM_swe', '11_CLIM_tmmn', '11_CLIM_tmmx', '11_CLIM_vap', '11_CLIM_vpd', '11_CLIM_vs']\n"
     ]
    }
   ],
   "source": [
    "band_names = [l.strip() for l in open('bandnames.txt', 'r').readlines()]\n",
    "print(band_names)\n",
    "#print(len(band_names))"
   ]
  },
  {
   "cell_type": "markdown",
   "metadata": {},
   "source": [
    "# Fetching Column names for extracking the area of the field from the data"
   ]
  },
  {
   "cell_type": "code",
   "execution_count": 49,
   "metadata": {},
   "outputs": [],
   "source": [
    "#print(new_band_names)\n",
    "n = len(band_names)\n",
    "new_band_names = []\n",
    "for i in range(n):\n",
    "    x = band_names[i].split('_',1)[1:]\n",
    "    y ='_'.join(x)\n",
    "    new_band_names.append(y)\n",
    "\n",
    "new_band_names1 = new_band_names[:360]\n",
    "#print(new_band_names[:360])"
   ]
  },
  {
   "cell_type": "markdown",
   "metadata": {
    "id": "HQ3M6O2QLivY"
   },
   "source": [
    "0_S2_B1 is band one from the Sentinel 2 image for January (month 0). They're ordered, so we know that the first image band in the array is 0_S2_B1...\n",
    "\n",
    "You'll likely want to examine specific bands. Here's an example where we create a function to sample the center point (20, 20) for specified bands from each month:"
   ]
  },
  {
   "cell_type": "code",
   "execution_count": 50,
   "metadata": {
    "id": "ercQTzbA4VAI"
   },
   "outputs": [],
   "source": [
    "def process_im(fid, folder='image_arrays_train'):\n",
    "  fn = f'{folder}/{fid}.npy'\n",
    "  arr = np.load(fn)\n",
    "  #bands_of_interest = ['S2_B5', 'S2_B4', 'S2_B3', 'S2_B2', 'CLIM_pr', 'CLIM_soil']\n",
    "  bands_of_interest = new_band_names1\n",
    "  values = {}\n",
    "  for month in range(12):\n",
    "    bns = [str(month) + '_' + b for b in bands_of_interest] # Bands of interest for this month \n",
    "    idxs = np.where(np.isin(band_names, bns)) # Index of these bands\n",
    "    vs = arr[idxs, 20, 20] # Sample the im at the center point\n",
    "    for bn, v in zip(bns, vs[0]):\n",
    "      values[bn] = v\n",
    "  return values\n",
    "\n",
    "# Example\n",
    "# process_im('35AFSDD')"
   ]
  },
  {
   "cell_type": "markdown",
   "metadata": {
    "id": "H54JvdaYMGMC"
   },
   "source": [
    "With this, we can sample the inputs for each field in train and use that to build a dataframe of input features:"
   ]
  },
  {
   "cell_type": "code",
   "execution_count": 51,
   "metadata": {
    "colab": {
     "base_uri": "https://localhost:8080/",
     "height": 215
    },
    "id": "ARy0RY98L65B",
    "outputId": "65724ade-7821-47ff-b54d-172e549f4c93"
   },
   "outputs": [
    {
     "data": {
      "text/html": [
       "<div>\n",
       "<style scoped>\n",
       "    .dataframe tbody tr th:only-of-type {\n",
       "        vertical-align: middle;\n",
       "    }\n",
       "\n",
       "    .dataframe tbody tr th {\n",
       "        vertical-align: top;\n",
       "    }\n",
       "\n",
       "    .dataframe thead th {\n",
       "        text-align: right;\n",
       "    }\n",
       "</style>\n",
       "<table border=\"1\" class=\"dataframe\">\n",
       "  <thead>\n",
       "    <tr style=\"text-align: right;\">\n",
       "      <th></th>\n",
       "      <th>0_S2_B1</th>\n",
       "      <th>0_S2_B2</th>\n",
       "      <th>0_S2_B3</th>\n",
       "      <th>0_S2_B4</th>\n",
       "      <th>0_S2_B5</th>\n",
       "      <th>0_S2_B6</th>\n",
       "      <th>0_S2_B7</th>\n",
       "      <th>0_S2_B8</th>\n",
       "      <th>0_S2_B8A</th>\n",
       "      <th>0_S2_B9</th>\n",
       "      <th>...</th>\n",
       "      <th>11_CLIM_soil</th>\n",
       "      <th>11_CLIM_srad</th>\n",
       "      <th>11_CLIM_swe</th>\n",
       "      <th>11_CLIM_tmmn</th>\n",
       "      <th>11_CLIM_tmmx</th>\n",
       "      <th>11_CLIM_vap</th>\n",
       "      <th>11_CLIM_vpd</th>\n",
       "      <th>11_CLIM_vs</th>\n",
       "      <th>Field_ID</th>\n",
       "      <th>Yield</th>\n",
       "    </tr>\n",
       "  </thead>\n",
       "  <tbody>\n",
       "    <tr>\n",
       "      <th>0</th>\n",
       "      <td>1024</td>\n",
       "      <td>934</td>\n",
       "      <td>932</td>\n",
       "      <td>1173</td>\n",
       "      <td>1392</td>\n",
       "      <td>1798</td>\n",
       "      <td>2044</td>\n",
       "      <td>2038</td>\n",
       "      <td>2327</td>\n",
       "      <td>1072</td>\n",
       "      <td>...</td>\n",
       "      <td>215</td>\n",
       "      <td>1880</td>\n",
       "      <td>0</td>\n",
       "      <td>100</td>\n",
       "      <td>267</td>\n",
       "      <td>1680</td>\n",
       "      <td>69</td>\n",
       "      <td>210</td>\n",
       "      <td>MH2O0YH</td>\n",
       "      <td>3.686</td>\n",
       "    </tr>\n",
       "    <tr>\n",
       "      <th>1</th>\n",
       "      <td>1023</td>\n",
       "      <td>880</td>\n",
       "      <td>821</td>\n",
       "      <td>924</td>\n",
       "      <td>1116</td>\n",
       "      <td>1630</td>\n",
       "      <td>1870</td>\n",
       "      <td>1951</td>\n",
       "      <td>2040</td>\n",
       "      <td>929</td>\n",
       "      <td>...</td>\n",
       "      <td>215</td>\n",
       "      <td>1883</td>\n",
       "      <td>0</td>\n",
       "      <td>99</td>\n",
       "      <td>273</td>\n",
       "      <td>1682</td>\n",
       "      <td>75</td>\n",
       "      <td>190</td>\n",
       "      <td>O9TURWL</td>\n",
       "      <td>5.657</td>\n",
       "    </tr>\n",
       "    <tr>\n",
       "      <th>2</th>\n",
       "      <td>1095</td>\n",
       "      <td>1016</td>\n",
       "      <td>1070</td>\n",
       "      <td>1357</td>\n",
       "      <td>1632</td>\n",
       "      <td>1972</td>\n",
       "      <td>2256</td>\n",
       "      <td>2137</td>\n",
       "      <td>2588</td>\n",
       "      <td>957</td>\n",
       "      <td>...</td>\n",
       "      <td>289</td>\n",
       "      <td>1875</td>\n",
       "      <td>0</td>\n",
       "      <td>100</td>\n",
       "      <td>274</td>\n",
       "      <td>1690</td>\n",
       "      <td>76</td>\n",
       "      <td>200</td>\n",
       "      <td>35AFSDD</td>\n",
       "      <td>3.082</td>\n",
       "    </tr>\n",
       "    <tr>\n",
       "      <th>3</th>\n",
       "      <td>976</td>\n",
       "      <td>777</td>\n",
       "      <td>784</td>\n",
       "      <td>639</td>\n",
       "      <td>1064</td>\n",
       "      <td>2014</td>\n",
       "      <td>2561</td>\n",
       "      <td>2588</td>\n",
       "      <td>2921</td>\n",
       "      <td>1300</td>\n",
       "      <td>...</td>\n",
       "      <td>189</td>\n",
       "      <td>1898</td>\n",
       "      <td>0</td>\n",
       "      <td>98</td>\n",
       "      <td>263</td>\n",
       "      <td>1688</td>\n",
       "      <td>64</td>\n",
       "      <td>210</td>\n",
       "      <td>PM05EG9</td>\n",
       "      <td>2.707</td>\n",
       "    </tr>\n",
       "    <tr>\n",
       "      <th>4</th>\n",
       "      <td>1300</td>\n",
       "      <td>1081</td>\n",
       "      <td>1122</td>\n",
       "      <td>1162</td>\n",
       "      <td>1487</td>\n",
       "      <td>2336</td>\n",
       "      <td>2698</td>\n",
       "      <td>2603</td>\n",
       "      <td>2984</td>\n",
       "      <td>710</td>\n",
       "      <td>...</td>\n",
       "      <td>1214</td>\n",
       "      <td>1930</td>\n",
       "      <td>0</td>\n",
       "      <td>143</td>\n",
       "      <td>291</td>\n",
       "      <td>1972</td>\n",
       "      <td>87</td>\n",
       "      <td>270</td>\n",
       "      <td>V7PZBCG</td>\n",
       "      <td>2.679</td>\n",
       "    </tr>\n",
       "  </tbody>\n",
       "</table>\n",
       "<p>5 rows × 362 columns</p>\n",
       "</div>"
      ],
      "text/plain": [
       "   0_S2_B1  0_S2_B2  0_S2_B3  0_S2_B4  0_S2_B5  0_S2_B6  0_S2_B7  0_S2_B8  \\\n",
       "0     1024      934      932     1173     1392     1798     2044     2038   \n",
       "1     1023      880      821      924     1116     1630     1870     1951   \n",
       "2     1095     1016     1070     1357     1632     1972     2256     2137   \n",
       "3      976      777      784      639     1064     2014     2561     2588   \n",
       "4     1300     1081     1122     1162     1487     2336     2698     2603   \n",
       "\n",
       "   0_S2_B8A  0_S2_B9  ...  11_CLIM_soil  11_CLIM_srad  11_CLIM_swe  \\\n",
       "0      2327     1072  ...           215          1880            0   \n",
       "1      2040      929  ...           215          1883            0   \n",
       "2      2588      957  ...           289          1875            0   \n",
       "3      2921     1300  ...           189          1898            0   \n",
       "4      2984      710  ...          1214          1930            0   \n",
       "\n",
       "   11_CLIM_tmmn  11_CLIM_tmmx  11_CLIM_vap  11_CLIM_vpd  11_CLIM_vs  Field_ID  \\\n",
       "0           100           267         1680           69         210   MH2O0YH   \n",
       "1            99           273         1682           75         190   O9TURWL   \n",
       "2           100           274         1690           76         200   35AFSDD   \n",
       "3            98           263         1688           64         210   PM05EG9   \n",
       "4           143           291         1972           87         270   V7PZBCG   \n",
       "\n",
       "   Yield  \n",
       "0  3.686  \n",
       "1  5.657  \n",
       "2  3.082  \n",
       "3  2.707  \n",
       "4  2.679  \n",
       "\n",
       "[5 rows x 362 columns]"
      ]
     },
     "execution_count": 51,
     "metadata": {},
     "output_type": "execute_result"
    }
   ],
   "source": [
    "# Make a new DF with the sampled values from each field \n",
    "train_sampled = pd.DataFrame([process_im(fid) for fid in train['Field_ID'].values])\n",
    "\n",
    "# Add in the field ID and yield\n",
    "train_sampled['Field_ID'] = train['Field_ID'].values\n",
    "train_sampled['Yield'] = train['Yield'].values\n",
    "train_sampled.head()"
   ]
  },
  {
   "cell_type": "code",
   "execution_count": 52,
   "metadata": {},
   "outputs": [],
   "source": [
    "train_sampled.to_csv('sample.csv', index = True)"
   ]
  },
  {
   "cell_type": "markdown",
   "metadata": {},
   "source": [
    "Deleting the unwanted rows for checking the skewness"
   ]
  },
  {
   "cell_type": "code",
   "execution_count": 53,
   "metadata": {},
   "outputs": [
    {
     "name": "stdout",
     "output_type": "stream",
     "text": [
      "[]\n"
     ]
    },
    {
     "data": {
      "text/plain": [
       "(2977, 304)"
      ]
     },
     "execution_count": 53,
     "metadata": {},
     "output_type": "execute_result"
    }
   ],
   "source": [
    "train_sampled1 = train_sampled.dropna(axis=1)\n",
    "\n",
    "uniquevalue = []\n",
    "\n",
    "print(uniquevalue)\n",
    "type(uniquevalue)\n",
    "\n",
    "for i in train_sampled1.columns:\n",
    "    if train_sampled1[i].nunique() == 1:\n",
    "        del train_sampled1[i]\n",
    "\n",
    "#del train_sampled1['Field_ID']\n",
    "train_sampled1.drop(columns = ['0_S2_QA60','1_S2_QA60','2_S2_QA60','3_S2_QA60','3_CLIM_def','3_CLIM_pdsi','4_S2_QA60','5_S2_QA60','6_S2_QA60','7_S2_QA60','8_S2_QA60','9_S2_QA60','10_S2_QA60','11_S2_QA60','4_CLIM_pdsi', '5_CLIM_pdsi', '6_CLIM_pdsi', '7_CLIM_pdsi','8_CLIM_pdsi', '9_CLIM_pdsi', '10_CLIM_pdsi', '11_CLIM_pdsi'], inplace=True)\n",
    "#print(train_sampled1)\n",
    "train_sampled1.to_csv('sample1.csv', index = True)\n",
    "train_sampled1.shape"
   ]
  },
  {
   "cell_type": "markdown",
   "metadata": {},
   "source": [
    "Finding correlation of the data with the target class"
   ]
  },
  {
   "cell_type": "code",
   "execution_count": 54,
   "metadata": {},
   "outputs": [
    {
     "data": {
      "text/html": [
       "<div>\n",
       "<style scoped>\n",
       "    .dataframe tbody tr th:only-of-type {\n",
       "        vertical-align: middle;\n",
       "    }\n",
       "\n",
       "    .dataframe tbody tr th {\n",
       "        vertical-align: top;\n",
       "    }\n",
       "\n",
       "    .dataframe thead th {\n",
       "        text-align: right;\n",
       "    }\n",
       "</style>\n",
       "<table border=\"1\" class=\"dataframe\">\n",
       "  <thead>\n",
       "    <tr style=\"text-align: right;\">\n",
       "      <th></th>\n",
       "      <th>0_S2_B1</th>\n",
       "      <th>0_S2_B2</th>\n",
       "      <th>0_S2_B3</th>\n",
       "      <th>0_S2_B4</th>\n",
       "      <th>0_S2_B5</th>\n",
       "      <th>0_S2_B6</th>\n",
       "      <th>0_S2_B7</th>\n",
       "      <th>0_S2_B8</th>\n",
       "      <th>0_S2_B8A</th>\n",
       "      <th>0_S2_B9</th>\n",
       "      <th>...</th>\n",
       "      <th>11_CLIM_pr</th>\n",
       "      <th>11_CLIM_ro</th>\n",
       "      <th>11_CLIM_soil</th>\n",
       "      <th>11_CLIM_srad</th>\n",
       "      <th>11_CLIM_tmmn</th>\n",
       "      <th>11_CLIM_tmmx</th>\n",
       "      <th>11_CLIM_vap</th>\n",
       "      <th>11_CLIM_vpd</th>\n",
       "      <th>11_CLIM_vs</th>\n",
       "      <th>Yield</th>\n",
       "    </tr>\n",
       "  </thead>\n",
       "  <tbody>\n",
       "    <tr>\n",
       "      <th>0_S2_B1</th>\n",
       "      <td>1.000000</td>\n",
       "      <td>0.824599</td>\n",
       "      <td>0.750039</td>\n",
       "      <td>0.527370</td>\n",
       "      <td>0.564373</td>\n",
       "      <td>0.305525</td>\n",
       "      <td>0.219391</td>\n",
       "      <td>0.198817</td>\n",
       "      <td>0.214266</td>\n",
       "      <td>0.053576</td>\n",
       "      <td>...</td>\n",
       "      <td>0.008900</td>\n",
       "      <td>0.022549</td>\n",
       "      <td>0.054306</td>\n",
       "      <td>-0.012560</td>\n",
       "      <td>0.288920</td>\n",
       "      <td>0.188506</td>\n",
       "      <td>0.275418</td>\n",
       "      <td>-0.006023</td>\n",
       "      <td>0.050159</td>\n",
       "      <td>-0.072044</td>\n",
       "    </tr>\n",
       "    <tr>\n",
       "      <th>0_S2_B2</th>\n",
       "      <td>0.824599</td>\n",
       "      <td>1.000000</td>\n",
       "      <td>0.951044</td>\n",
       "      <td>0.772900</td>\n",
       "      <td>0.734511</td>\n",
       "      <td>0.283430</td>\n",
       "      <td>0.174712</td>\n",
       "      <td>0.206583</td>\n",
       "      <td>0.181551</td>\n",
       "      <td>0.230760</td>\n",
       "      <td>...</td>\n",
       "      <td>-0.053843</td>\n",
       "      <td>-0.037014</td>\n",
       "      <td>-0.026166</td>\n",
       "      <td>0.022057</td>\n",
       "      <td>0.159328</td>\n",
       "      <td>0.097495</td>\n",
       "      <td>0.125891</td>\n",
       "      <td>0.013553</td>\n",
       "      <td>0.004897</td>\n",
       "      <td>-0.010681</td>\n",
       "    </tr>\n",
       "    <tr>\n",
       "      <th>0_S2_B3</th>\n",
       "      <td>0.750039</td>\n",
       "      <td>0.951044</td>\n",
       "      <td>1.000000</td>\n",
       "      <td>0.824434</td>\n",
       "      <td>0.826350</td>\n",
       "      <td>0.395042</td>\n",
       "      <td>0.269059</td>\n",
       "      <td>0.323797</td>\n",
       "      <td>0.273497</td>\n",
       "      <td>0.329163</td>\n",
       "      <td>...</td>\n",
       "      <td>-0.122056</td>\n",
       "      <td>-0.083230</td>\n",
       "      <td>-0.102406</td>\n",
       "      <td>0.088487</td>\n",
       "      <td>0.155075</td>\n",
       "      <td>0.120304</td>\n",
       "      <td>0.054867</td>\n",
       "      <td>0.077182</td>\n",
       "      <td>0.054251</td>\n",
       "      <td>-0.008445</td>\n",
       "    </tr>\n",
       "    <tr>\n",
       "      <th>0_S2_B4</th>\n",
       "      <td>0.527370</td>\n",
       "      <td>0.772900</td>\n",
       "      <td>0.824434</td>\n",
       "      <td>1.000000</td>\n",
       "      <td>0.914353</td>\n",
       "      <td>0.009116</td>\n",
       "      <td>-0.141439</td>\n",
       "      <td>-0.066805</td>\n",
       "      <td>-0.133589</td>\n",
       "      <td>0.552781</td>\n",
       "      <td>...</td>\n",
       "      <td>-0.193948</td>\n",
       "      <td>-0.176911</td>\n",
       "      <td>-0.222694</td>\n",
       "      <td>0.135461</td>\n",
       "      <td>0.013901</td>\n",
       "      <td>-0.047623</td>\n",
       "      <td>-0.097894</td>\n",
       "      <td>0.061496</td>\n",
       "      <td>-0.045797</td>\n",
       "      <td>0.107324</td>\n",
       "    </tr>\n",
       "    <tr>\n",
       "      <th>0_S2_B5</th>\n",
       "      <td>0.564373</td>\n",
       "      <td>0.734511</td>\n",
       "      <td>0.826350</td>\n",
       "      <td>0.914353</td>\n",
       "      <td>1.000000</td>\n",
       "      <td>0.242701</td>\n",
       "      <td>0.076164</td>\n",
       "      <td>0.143712</td>\n",
       "      <td>0.085384</td>\n",
       "      <td>0.592995</td>\n",
       "      <td>...</td>\n",
       "      <td>-0.251109</td>\n",
       "      <td>-0.202302</td>\n",
       "      <td>-0.270362</td>\n",
       "      <td>0.188521</td>\n",
       "      <td>0.054092</td>\n",
       "      <td>0.016839</td>\n",
       "      <td>-0.124782</td>\n",
       "      <td>0.124463</td>\n",
       "      <td>0.028704</td>\n",
       "      <td>0.068875</td>\n",
       "    </tr>\n",
       "    <tr>\n",
       "      <th>...</th>\n",
       "      <td>...</td>\n",
       "      <td>...</td>\n",
       "      <td>...</td>\n",
       "      <td>...</td>\n",
       "      <td>...</td>\n",
       "      <td>...</td>\n",
       "      <td>...</td>\n",
       "      <td>...</td>\n",
       "      <td>...</td>\n",
       "      <td>...</td>\n",
       "      <td>...</td>\n",
       "      <td>...</td>\n",
       "      <td>...</td>\n",
       "      <td>...</td>\n",
       "      <td>...</td>\n",
       "      <td>...</td>\n",
       "      <td>...</td>\n",
       "      <td>...</td>\n",
       "      <td>...</td>\n",
       "      <td>...</td>\n",
       "      <td>...</td>\n",
       "    </tr>\n",
       "    <tr>\n",
       "      <th>11_CLIM_tmmx</th>\n",
       "      <td>0.188506</td>\n",
       "      <td>0.097495</td>\n",
       "      <td>0.120304</td>\n",
       "      <td>-0.047623</td>\n",
       "      <td>0.016839</td>\n",
       "      <td>0.292439</td>\n",
       "      <td>0.292306</td>\n",
       "      <td>0.218749</td>\n",
       "      <td>0.292246</td>\n",
       "      <td>-0.211037</td>\n",
       "      <td>...</td>\n",
       "      <td>-0.413083</td>\n",
       "      <td>-0.290943</td>\n",
       "      <td>-0.421680</td>\n",
       "      <td>0.610643</td>\n",
       "      <td>0.813482</td>\n",
       "      <td>1.000000</td>\n",
       "      <td>0.120992</td>\n",
       "      <td>0.738715</td>\n",
       "      <td>0.712768</td>\n",
       "      <td>-0.325390</td>\n",
       "    </tr>\n",
       "    <tr>\n",
       "      <th>11_CLIM_vap</th>\n",
       "      <td>0.275418</td>\n",
       "      <td>0.125891</td>\n",
       "      <td>0.054867</td>\n",
       "      <td>-0.097894</td>\n",
       "      <td>-0.124782</td>\n",
       "      <td>0.097300</td>\n",
       "      <td>0.113892</td>\n",
       "      <td>0.049054</td>\n",
       "      <td>0.085861</td>\n",
       "      <td>-0.360490</td>\n",
       "      <td>...</td>\n",
       "      <td>0.714368</td>\n",
       "      <td>0.523795</td>\n",
       "      <td>0.676039</td>\n",
       "      <td>-0.570642</td>\n",
       "      <td>0.386225</td>\n",
       "      <td>0.120992</td>\n",
       "      <td>1.000000</td>\n",
       "      <td>-0.524035</td>\n",
       "      <td>-0.031109</td>\n",
       "      <td>-0.174264</td>\n",
       "    </tr>\n",
       "    <tr>\n",
       "      <th>11_CLIM_vpd</th>\n",
       "      <td>-0.006023</td>\n",
       "      <td>0.013553</td>\n",
       "      <td>0.077182</td>\n",
       "      <td>0.061496</td>\n",
       "      <td>0.124463</td>\n",
       "      <td>0.152756</td>\n",
       "      <td>0.134668</td>\n",
       "      <td>0.122080</td>\n",
       "      <td>0.158020</td>\n",
       "      <td>0.069999</td>\n",
       "      <td>...</td>\n",
       "      <td>-0.829686</td>\n",
       "      <td>-0.641536</td>\n",
       "      <td>-0.846177</td>\n",
       "      <td>0.942200</td>\n",
       "      <td>0.534652</td>\n",
       "      <td>0.738715</td>\n",
       "      <td>-0.524035</td>\n",
       "      <td>1.000000</td>\n",
       "      <td>0.621695</td>\n",
       "      <td>-0.173534</td>\n",
       "    </tr>\n",
       "    <tr>\n",
       "      <th>11_CLIM_vs</th>\n",
       "      <td>0.050159</td>\n",
       "      <td>0.004897</td>\n",
       "      <td>0.054251</td>\n",
       "      <td>-0.045797</td>\n",
       "      <td>0.028704</td>\n",
       "      <td>0.311206</td>\n",
       "      <td>0.298721</td>\n",
       "      <td>0.244226</td>\n",
       "      <td>0.279645</td>\n",
       "      <td>0.031143</td>\n",
       "      <td>...</td>\n",
       "      <td>-0.496699</td>\n",
       "      <td>-0.253754</td>\n",
       "      <td>-0.444688</td>\n",
       "      <td>0.564299</td>\n",
       "      <td>0.674688</td>\n",
       "      <td>0.712768</td>\n",
       "      <td>-0.031109</td>\n",
       "      <td>0.621695</td>\n",
       "      <td>1.000000</td>\n",
       "      <td>-0.329681</td>\n",
       "    </tr>\n",
       "    <tr>\n",
       "      <th>Yield</th>\n",
       "      <td>-0.072044</td>\n",
       "      <td>-0.010681</td>\n",
       "      <td>-0.008445</td>\n",
       "      <td>0.107324</td>\n",
       "      <td>0.068875</td>\n",
       "      <td>-0.191125</td>\n",
       "      <td>-0.205465</td>\n",
       "      <td>-0.154907</td>\n",
       "      <td>-0.193739</td>\n",
       "      <td>0.165770</td>\n",
       "      <td>...</td>\n",
       "      <td>0.091730</td>\n",
       "      <td>-0.027077</td>\n",
       "      <td>0.051016</td>\n",
       "      <td>-0.165042</td>\n",
       "      <td>-0.359617</td>\n",
       "      <td>-0.325390</td>\n",
       "      <td>-0.174264</td>\n",
       "      <td>-0.173534</td>\n",
       "      <td>-0.329681</td>\n",
       "      <td>1.000000</td>\n",
       "    </tr>\n",
       "  </tbody>\n",
       "</table>\n",
       "<p>303 rows × 303 columns</p>\n",
       "</div>"
      ],
      "text/plain": [
       "               0_S2_B1   0_S2_B2   0_S2_B3   0_S2_B4   0_S2_B5   0_S2_B6  \\\n",
       "0_S2_B1       1.000000  0.824599  0.750039  0.527370  0.564373  0.305525   \n",
       "0_S2_B2       0.824599  1.000000  0.951044  0.772900  0.734511  0.283430   \n",
       "0_S2_B3       0.750039  0.951044  1.000000  0.824434  0.826350  0.395042   \n",
       "0_S2_B4       0.527370  0.772900  0.824434  1.000000  0.914353  0.009116   \n",
       "0_S2_B5       0.564373  0.734511  0.826350  0.914353  1.000000  0.242701   \n",
       "...                ...       ...       ...       ...       ...       ...   \n",
       "11_CLIM_tmmx  0.188506  0.097495  0.120304 -0.047623  0.016839  0.292439   \n",
       "11_CLIM_vap   0.275418  0.125891  0.054867 -0.097894 -0.124782  0.097300   \n",
       "11_CLIM_vpd  -0.006023  0.013553  0.077182  0.061496  0.124463  0.152756   \n",
       "11_CLIM_vs    0.050159  0.004897  0.054251 -0.045797  0.028704  0.311206   \n",
       "Yield        -0.072044 -0.010681 -0.008445  0.107324  0.068875 -0.191125   \n",
       "\n",
       "               0_S2_B7   0_S2_B8  0_S2_B8A   0_S2_B9  ...  11_CLIM_pr  \\\n",
       "0_S2_B1       0.219391  0.198817  0.214266  0.053576  ...    0.008900   \n",
       "0_S2_B2       0.174712  0.206583  0.181551  0.230760  ...   -0.053843   \n",
       "0_S2_B3       0.269059  0.323797  0.273497  0.329163  ...   -0.122056   \n",
       "0_S2_B4      -0.141439 -0.066805 -0.133589  0.552781  ...   -0.193948   \n",
       "0_S2_B5       0.076164  0.143712  0.085384  0.592995  ...   -0.251109   \n",
       "...                ...       ...       ...       ...  ...         ...   \n",
       "11_CLIM_tmmx  0.292306  0.218749  0.292246 -0.211037  ...   -0.413083   \n",
       "11_CLIM_vap   0.113892  0.049054  0.085861 -0.360490  ...    0.714368   \n",
       "11_CLIM_vpd   0.134668  0.122080  0.158020  0.069999  ...   -0.829686   \n",
       "11_CLIM_vs    0.298721  0.244226  0.279645  0.031143  ...   -0.496699   \n",
       "Yield        -0.205465 -0.154907 -0.193739  0.165770  ...    0.091730   \n",
       "\n",
       "              11_CLIM_ro  11_CLIM_soil  11_CLIM_srad  11_CLIM_tmmn  \\\n",
       "0_S2_B1         0.022549      0.054306     -0.012560      0.288920   \n",
       "0_S2_B2        -0.037014     -0.026166      0.022057      0.159328   \n",
       "0_S2_B3        -0.083230     -0.102406      0.088487      0.155075   \n",
       "0_S2_B4        -0.176911     -0.222694      0.135461      0.013901   \n",
       "0_S2_B5        -0.202302     -0.270362      0.188521      0.054092   \n",
       "...                  ...           ...           ...           ...   \n",
       "11_CLIM_tmmx   -0.290943     -0.421680      0.610643      0.813482   \n",
       "11_CLIM_vap     0.523795      0.676039     -0.570642      0.386225   \n",
       "11_CLIM_vpd    -0.641536     -0.846177      0.942200      0.534652   \n",
       "11_CLIM_vs     -0.253754     -0.444688      0.564299      0.674688   \n",
       "Yield          -0.027077      0.051016     -0.165042     -0.359617   \n",
       "\n",
       "              11_CLIM_tmmx  11_CLIM_vap  11_CLIM_vpd  11_CLIM_vs     Yield  \n",
       "0_S2_B1           0.188506     0.275418    -0.006023    0.050159 -0.072044  \n",
       "0_S2_B2           0.097495     0.125891     0.013553    0.004897 -0.010681  \n",
       "0_S2_B3           0.120304     0.054867     0.077182    0.054251 -0.008445  \n",
       "0_S2_B4          -0.047623    -0.097894     0.061496   -0.045797  0.107324  \n",
       "0_S2_B5           0.016839    -0.124782     0.124463    0.028704  0.068875  \n",
       "...                    ...          ...          ...         ...       ...  \n",
       "11_CLIM_tmmx      1.000000     0.120992     0.738715    0.712768 -0.325390  \n",
       "11_CLIM_vap       0.120992     1.000000    -0.524035   -0.031109 -0.174264  \n",
       "11_CLIM_vpd       0.738715    -0.524035     1.000000    0.621695 -0.173534  \n",
       "11_CLIM_vs        0.712768    -0.031109     0.621695    1.000000 -0.329681  \n",
       "Yield            -0.325390    -0.174264    -0.173534   -0.329681  1.000000  \n",
       "\n",
       "[303 rows x 303 columns]"
      ]
     },
     "execution_count": 54,
     "metadata": {},
     "output_type": "execute_result"
    }
   ],
   "source": [
    "train_sampled1.corr()"
   ]
  },
  {
   "cell_type": "code",
   "execution_count": 55,
   "metadata": {},
   "outputs": [],
   "source": [
    "corrMatrix = train_sampled1.corr()\n",
    "corrMatrix.to_csv('correlation1.csv', index = True) #saving the correlation values for checking correlation"
   ]
  },
  {
   "cell_type": "markdown",
   "metadata": {},
   "source": [
    "# Checking the Skewness of Data"
   ]
  },
  {
   "cell_type": "raw",
   "metadata": {},
   "source": [
    "Checking skewness Rowwise"
   ]
  },
  {
   "cell_type": "code",
   "execution_count": 56,
   "metadata": {},
   "outputs": [
    {
     "data": {
      "text/plain": [
       "0       2.311136\n",
       "1       1.037213\n",
       "2       2.437013\n",
       "3       2.461309\n",
       "4       0.768610\n",
       "          ...   \n",
       "2972    0.801159\n",
       "2973    0.733429\n",
       "2974    3.124513\n",
       "2975    0.811658\n",
       "2976    0.635117\n",
       "Length: 2977, dtype: float64"
      ]
     },
     "execution_count": 56,
     "metadata": {},
     "output_type": "execute_result"
    }
   ],
   "source": [
    "train_sampled1.skew(axis = 1, skipna = True)"
   ]
  },
  {
   "cell_type": "markdown",
   "metadata": {},
   "source": [
    "Checking skewness Columnwise"
   ]
  },
  {
   "cell_type": "code",
   "execution_count": 57,
   "metadata": {},
   "outputs": [
    {
     "name": "stdout",
     "output_type": "stream",
     "text": [
      "0_S2_B1         7.043604\n",
      "0_S2_B2         5.709805\n",
      "0_S2_B3         3.593708\n",
      "0_S2_B4         0.863172\n",
      "0_S2_B5         0.990880\n",
      "                  ...   \n",
      "11_CLIM_tmmx   -1.090246\n",
      "11_CLIM_vap     0.304247\n",
      "11_CLIM_vpd    -1.380822\n",
      "11_CLIM_vs     -0.787135\n",
      "Yield           1.004717\n",
      "Length: 303, dtype: float64\n"
     ]
    }
   ],
   "source": [
    "skewness = train_sampled1.skew(axis = 0, skipna = True)\n",
    "print(skewness)\n",
    "#skewness.to_csv('skewness.csv', index = True)"
   ]
  },
  {
   "cell_type": "code",
   "execution_count": 58,
   "metadata": {
    "scrolled": true
   },
   "outputs": [],
   "source": [
    " corr_skew = pd.read_csv('Corr_Skew.csv')"
   ]
  },
  {
   "cell_type": "code",
   "execution_count": 59,
   "metadata": {
    "scrolled": true
   },
   "outputs": [
    {
     "name": "stdout",
     "output_type": "stream",
     "text": [
      "['0_S2_B4', '0_CLIM_pr', '0_CLIM_ro', '0_CLIM_soil', '1_CLIM_srad', '1_CLIM_vpd', '2_S2_B1', '2_S2_B2', '2_S2_B3', '2_S2_B4', '2_S2_B5', '2_S2_B6', '2_S2_B7', '2_S2_B8', '2_S2_B8A', '2_S2_B11', '3_S2_B1', '3_S2_B2', '3_S2_B3', '3_S2_B4', '3_S2_B5', '3_S2_B6', '3_S2_B7', '3_S2_B8', '3_S2_B8A', '3_CLIM_ro', '4_CLIM_pr', '5_CLIM_pr', '5_CLIM_ro', '6_S2_B7', '6_S2_B8', '6_S2_B8A', '6_S2_B9', '6_CLIM_pr', '6_CLIM_ro', '7_S2_B9', '7_CLIM_pr', '7_CLIM_ro', '7_CLIM_soil', '8_S2_B11', '8_S2_B12', '8_CLIM_def', '8_CLIM_soil', '9_S2_B1', '9_S2_B2', '9_S2_B3', '9_S2_B4', '10_S2_B10', '10_CLIM_def', '10_CLIM_pr', '10_CLIM_ro', '11_S2_B9']\n"
     ]
    }
   ],
   "source": [
    "labels = []\n",
    "for n in range(len(corr_skew)):\n",
    "    if (corr_skew['Skew'][n] > 0.49) and (corr_skew['Correlation'][n] > 0.099) :\n",
    "        labels.append(corr_skew['Bands'][n])\n",
    "    if (corr_skew['Skew'][n] > 0.49) and (corr_skew['Correlation'][n] < -0.099) :\n",
    "        labels.append(corr_skew['Bands'][n])\n",
    "print(labels)"
   ]
  },
  {
   "cell_type": "code",
   "execution_count": 60,
   "metadata": {},
   "outputs": [
    {
     "name": "stdout",
     "output_type": "stream",
     "text": [
      "52\n"
     ]
    }
   ],
   "source": [
    "print(len(labels))"
   ]
  },
  {
   "cell_type": "code",
   "execution_count": 61,
   "metadata": {},
   "outputs": [],
   "source": [
    "from scipy.stats import skew\n",
    "import seaborn as sns\n",
    "from matplotlib import pyplot as plt\n",
    "x, y  = train_sampled[train_sampled1.columns[:-2]], train_sampled1['Yield']"
   ]
  },
  {
   "cell_type": "markdown",
   "metadata": {},
   "source": [
    "Changing the skewness using sqaureroot transformation"
   ]
  },
  {
   "cell_type": "code",
   "execution_count": 62,
   "metadata": {},
   "outputs": [
    {
     "name": "stdout",
     "output_type": "stream",
     "text": [
      "0_S2_B1         7.043604\n",
      "0_S2_B2         5.709805\n",
      "0_S2_B3         3.593708\n",
      "0_S2_B4         0.276117\n",
      "0_S2_B5         0.990880\n",
      "                  ...   \n",
      "11_CLIM_tmmn   -0.249349\n",
      "11_CLIM_tmmx   -1.090246\n",
      "11_CLIM_vap     0.304247\n",
      "11_CLIM_vpd    -1.380822\n",
      "11_CLIM_vs     -0.787135\n",
      "Length: 302, dtype: float64\n"
     ]
    }
   ],
   "source": [
    "import copy\n",
    "X1 = copy.deepcopy(x)  \n",
    "for i in labels:\n",
    "    X1[i] = np.sqrt(X1[i])  \n",
    "skewness = X1.skew()\n",
    "print(skewness)"
   ]
  },
  {
   "cell_type": "markdown",
   "metadata": {},
   "source": [
    "From the above boxplot graph we can observe that after applying squareroot transformation we can see that there is outliers."
   ]
  },
  {
   "cell_type": "code",
   "execution_count": 63,
   "metadata": {},
   "outputs": [
    {
     "name": "stdout",
     "output_type": "stream",
     "text": [
      "-----------Change in skewness-----------\n",
      "0_S2_B4\n",
      "0.11460422531169996\n",
      "0_CLIM_pr\n",
      "0.32798583836231493\n",
      "0_CLIM_ro\n",
      "-1.030859365204628\n",
      "0_CLIM_soil\n",
      "0.2279911039600228\n",
      "1_CLIM_srad\n",
      "0.7248917150661687\n",
      "1_CLIM_vpd\n",
      "1.6432578935793498\n",
      "2_S2_B1\n",
      "3.0722363291375525\n",
      "2_S2_B2\n",
      "3.0798766078136963\n",
      "2_S2_B3\n",
      "2.9621529679268934\n",
      "2_S2_B4\n",
      "2.526958179746743\n",
      "2_S2_B5\n",
      "2.724140815465622\n",
      "2_S2_B6\n",
      "2.127083236454168\n",
      "2_S2_B7\n",
      "1.8038276807577052\n",
      "2_S2_B8\n",
      "1.6154114765844534\n",
      "2_S2_B8A\n",
      "1.5585630402552657\n",
      "2_S2_B11\n",
      "0.12691895663913066\n",
      "3_S2_B1\n",
      "2.0845447272690745\n",
      "3_S2_B2\n",
      "2.0893674120892856\n",
      "3_S2_B3\n",
      "2.110305656187448\n",
      "3_S2_B4\n",
      "1.8607551759236844\n",
      "3_S2_B5\n",
      "2.1071650195547904\n",
      "3_S2_B6\n",
      "1.2796885244998246\n",
      "3_S2_B7\n",
      "0.8898564581405256\n",
      "3_S2_B8\n",
      "0.783666623392113\n",
      "3_S2_B8A\n",
      "0.7160884818687334\n",
      "3_CLIM_ro\n",
      "0.6796746385068779\n",
      "4_CLIM_pr\n",
      "2.0906831487908453\n",
      "5_CLIM_pr\n",
      "2.1751182317518998\n",
      "5_CLIM_ro\n",
      "3.5085797106068526\n",
      "6_S2_B7\n",
      "1.030344918939702\n",
      "6_S2_B8\n",
      "0.8402810306012439\n",
      "6_S2_B8A\n",
      "0.5982477263377567\n",
      "6_S2_B9\n",
      "2.864248021365181\n",
      "6_CLIM_pr\n",
      "0.2842208361008189\n",
      "6_CLIM_ro\n",
      "0.01610715742303634\n",
      "7_S2_B9\n",
      "2.7697885892903575\n",
      "7_CLIM_pr\n",
      "0.13247286585494747\n",
      "7_CLIM_ro\n",
      "3.4848777977740983\n",
      "7_CLIM_soil\n",
      "1.7402316294435487\n",
      "8_S2_B11\n",
      "0.1525533324694957\n",
      "8_S2_B12\n",
      "0.6192170309941138\n",
      "8_CLIM_def\n",
      "-0.9614394857432064\n",
      "8_CLIM_soil\n",
      "2.137087293081319\n",
      "9_S2_B1\n",
      "3.5279341270212314\n",
      "9_S2_B2\n",
      "3.456133254099872\n",
      "9_S2_B3\n",
      "3.366682523667724\n",
      "9_S2_B4\n",
      "2.6953947263059974\n",
      "10_S2_B10\n",
      "2.2216829422426816\n",
      "10_CLIM_def\n",
      "-0.33578399566515826\n",
      "10_CLIM_pr\n",
      "0.3127048471108495\n",
      "10_CLIM_ro\n",
      "4.309889006873713\n",
      "11_S2_B9\n",
      "1.9447320691589374\n"
     ]
    }
   ],
   "source": [
    "import copy\n",
    "X2 = copy.deepcopy(x)  \n",
    "for i in labels:\n",
    "    X2[i] = (X2[i])**(1./3.)\n",
    "print(\"-----------Change in skewness-----------\")\n",
    "for i in labels:\n",
    "    print(i)\n",
    "    print(skew(X2[i]))"
   ]
  },
  {
   "cell_type": "code",
   "execution_count": 69,
   "metadata": {},
   "outputs": [
    {
     "name": "stderr",
     "output_type": "stream",
     "text": [
      "/opt/anaconda3/lib/python3.7/site-packages/pandas/core/series.py:679: RuntimeWarning: divide by zero encountered in log10\n",
      "  result = getattr(ufunc, method)(*inputs, **kwargs)\n"
     ]
    }
   ],
   "source": [
    "X4 = x.copy()\n",
    "for i in labels:\n",
    "    X4[i] = X4[i]+1\n",
    "for i in labels:\n",
    "    X4[i] = np.log10(X3[i])"
   ]
  },
  {
   "cell_type": "code",
   "execution_count": 64,
   "metadata": {},
   "outputs": [
    {
     "name": "stdout",
     "output_type": "stream",
     "text": [
      "-----------Change in skewness-----------\n",
      "0_S2_B4\n",
      "0.03744964429004849\n",
      "0_CLIM_pr\n",
      "0.2547988722458475\n",
      "0_CLIM_ro\n",
      "-1.5087623091227191\n",
      "0_CLIM_soil\n",
      "0.16887181990968678\n",
      "1_CLIM_srad\n",
      "0.7133010201184499\n",
      "1_CLIM_vpd\n",
      "1.6161536152119818\n",
      "2_S2_B1\n",
      "2.9827892847068234\n",
      "2_S2_B2\n",
      "2.9735661617181752\n",
      "2_S2_B3\n",
      "2.835916786124843\n",
      "2_S2_B4\n",
      "2.3452437197976077\n",
      "2_S2_B5\n",
      "2.559329959857167\n",
      "2_S2_B6\n",
      "1.931291760572715\n",
      "2_S2_B7\n",
      "1.607786858462908\n",
      "2_S2_B8\n",
      "1.4094296808649807\n",
      "2_S2_B8A\n",
      "1.3593401533435767\n",
      "2_S2_B11\n",
      "-0.08254749689629486\n",
      "3_S2_B1\n",
      "1.9921616138978135\n",
      "3_S2_B2\n",
      "1.9763368073557996\n",
      "3_S2_B3\n",
      "1.9791213665465224\n",
      "3_S2_B4\n",
      "1.6841163171084366\n",
      "3_S2_B5\n",
      "1.9470123984778203\n",
      "3_S2_B6\n",
      "1.0906040811592268\n",
      "3_S2_B7\n",
      "0.7082155773352139\n",
      "3_S2_B8\n",
      "0.6044755083193546\n",
      "3_S2_B8A\n",
      "0.5314188897455667\n",
      "3_CLIM_ro\n",
      "0.6534960070479445\n",
      "4_CLIM_pr\n",
      "1.9446628500080319\n",
      "5_CLIM_pr\n",
      "1.9458854684538087\n",
      "5_CLIM_ro\n",
      "3.2652869840848826\n",
      "6_S2_B7\n",
      "0.7832090554604352\n",
      "6_S2_B8\n",
      "0.5937634433485237\n",
      "6_S2_B8A\n",
      "0.34467384763365844\n",
      "6_S2_B9\n",
      "2.540345373817404\n",
      "6_CLIM_pr\n",
      "0.1577513807621366\n",
      "6_CLIM_ro\n",
      "-1.2408190770220722\n",
      "7_S2_B9\n",
      "2.4203549338662773\n",
      "7_CLIM_pr\n",
      "-0.26850351934125166\n",
      "7_CLIM_ro\n",
      "2.628193569293063\n",
      "7_CLIM_soil\n",
      "1.5371905748328638\n",
      "8_S2_B11\n",
      "-0.1377546540143907\n",
      "8_S2_B12\n",
      "0.40698308806404415\n",
      "8_CLIM_def\n",
      "-1.380698610067382\n",
      "8_CLIM_soil\n",
      "1.9310615290205266\n",
      "9_S2_B1\n",
      "3.429666896179072\n",
      "9_S2_B2\n",
      "3.341419478238629\n",
      "9_S2_B3\n",
      "3.2295263923915254\n",
      "9_S2_B4\n",
      "2.4959436655213043\n",
      "10_S2_B10\n",
      "1.9062644253986782\n",
      "10_CLIM_def\n",
      "-0.6140966355239942\n",
      "10_CLIM_pr\n",
      "0.03007049779262502\n",
      "10_CLIM_ro\n",
      "4.101976945806675\n",
      "11_S2_B9\n",
      "1.564252341862527\n"
     ]
    }
   ],
   "source": [
    "import copy\n",
    "X3 = copy.deepcopy(x)  \n",
    "for i in labels:\n",
    "    X3[i] = (X3[i])**(1./4.)\n",
    "print(\"-----------Change in skewness-----------\")\n",
    "for i in labels:\n",
    "    print(i)\n",
    "    print(skew(X3[i]))"
   ]
  },
  {
   "cell_type": "markdown",
   "metadata": {
    "id": "DQeVfMqVHQim"
   },
   "source": [
    "# Fitting a model\n",
    "\n",
    "Now that we have a way to get features from the inputs, we can fit a model and see how it does:"
   ]
  },
  {
   "cell_type": "code",
   "execution_count": 71,
   "metadata": {},
   "outputs": [
    {
     "name": "stdout",
     "output_type": "stream",
     "text": [
      "[03:09:00] WARNING: src/objective/regression_obj.cu:152: reg:linear is now deprecated in favor of reg:squarederror.\n",
      "Score: 1.374964677973129\n"
     ]
    }
   ],
   "source": [
    "from xgboost import XGBRegressor\n",
    "from sklearn.model_selection import train_test_split\n",
    "from sklearn.metrics import mean_squared_error\n",
    "from sklearn.metrics import confusion_matrix, accuracy_score\n",
    "X_train, X_test, y_train, y_test = train_test_split(X3, y, test_size=0.15)\n",
    "\n",
    "# fit by setting best parameters and Evaluate model\n",
    "xgb_model = XGBRegressor()\n",
    "\n",
    "xgb_model.fit(X_train, y_train)\n",
    "\n",
    "print('Score:', mean_squared_error(y_test, xgb_model.predict(X_test), squared=False))"
   ]
  },
  {
   "cell_type": "code",
   "execution_count": 75,
   "metadata": {},
   "outputs": [
    {
     "name": "stdout",
     "output_type": "stream",
     "text": [
      "0.4948557618129611\n"
     ]
    }
   ],
   "source": [
    "score = xgb_model.score(X_train, y_train)\n",
    "print(score)"
   ]
  },
  {
   "cell_type": "markdown",
   "metadata": {
    "id": "G4rQ27KfHjME"
   },
   "source": [
    "# Saving Preds\n",
    "\n",
    "Once we're happy with how we generate our inputs, we must process the test fields in the same way and save predictions. Here it is, condensed. Note the Field_IDs from the sample submission are used, and the same `process_im` function prepares the inputs, this time looking for .npy files in the 'image_arrays_test' folder. "
   ]
  },
  {
   "cell_type": "code",
   "execution_count": 73,
   "metadata": {
    "colab": {
     "base_uri": "https://localhost:8080/",
     "height": 195
    },
    "id": "f8mtZ12DI1nD",
    "outputId": "743a2d3a-c20d-4477-fe18-4920543d1835"
   },
   "outputs": [
    {
     "name": "stdout",
     "output_type": "stream",
     "text": [
      "[]\n"
     ]
    },
    {
     "data": {
      "text/html": [
       "<div>\n",
       "<style scoped>\n",
       "    .dataframe tbody tr th:only-of-type {\n",
       "        vertical-align: middle;\n",
       "    }\n",
       "\n",
       "    .dataframe tbody tr th {\n",
       "        vertical-align: top;\n",
       "    }\n",
       "\n",
       "    .dataframe thead th {\n",
       "        text-align: right;\n",
       "    }\n",
       "</style>\n",
       "<table border=\"1\" class=\"dataframe\">\n",
       "  <thead>\n",
       "    <tr style=\"text-align: right;\">\n",
       "      <th></th>\n",
       "      <th>Field_ID</th>\n",
       "      <th>Yield</th>\n",
       "    </tr>\n",
       "  </thead>\n",
       "  <tbody>\n",
       "    <tr>\n",
       "      <th>0</th>\n",
       "      <td>E9UZCEA</td>\n",
       "      <td>2.776425</td>\n",
       "    </tr>\n",
       "    <tr>\n",
       "      <th>1</th>\n",
       "      <td>1WGGS1Q</td>\n",
       "      <td>3.264372</td>\n",
       "    </tr>\n",
       "    <tr>\n",
       "      <th>2</th>\n",
       "      <td>EG2KXE2</td>\n",
       "      <td>3.528218</td>\n",
       "    </tr>\n",
       "    <tr>\n",
       "      <th>3</th>\n",
       "      <td>HC3GQXF</td>\n",
       "      <td>3.071500</td>\n",
       "    </tr>\n",
       "    <tr>\n",
       "      <th>4</th>\n",
       "      <td>7AK6GFK</td>\n",
       "      <td>3.040347</td>\n",
       "    </tr>\n",
       "  </tbody>\n",
       "</table>\n",
       "</div>"
      ],
      "text/plain": [
       "  Field_ID     Yield\n",
       "0  E9UZCEA  2.776425\n",
       "1  1WGGS1Q  3.264372\n",
       "2  EG2KXE2  3.528218\n",
       "3  HC3GQXF  3.071500\n",
       "4  7AK6GFK  3.040347"
      ]
     },
     "execution_count": 73,
     "metadata": {},
     "output_type": "execute_result"
    }
   ],
   "source": [
    "# Load the sample submission file\n",
    "ss = pd.read_csv('SampleSubmission.csv')\n",
    "\n",
    "# Prep the data, using the same method we did for train\n",
    "test_sampled = pd.DataFrame([process_im(fid, folder='image_arrays_test') for fid in ss['Field_ID'].values])\n",
    "\n",
    "#Extracting features required\n",
    "test_sampled1 = test_sampled.dropna(axis=1)\n",
    "\n",
    "uniquevalue1 = []\n",
    "\n",
    "print(uniquevalue1)\n",
    "type(uniquevalue1)\n",
    "\n",
    "for i in test_sampled1.columns:\n",
    "    if test_sampled1[i].nunique() == 1:\n",
    "        del test_sampled1[i]\n",
    "\n",
    "#del train_sampled1['Field_ID']\n",
    "test_sampled1.drop(columns = ['0_S2_QA60','1_S2_QA60','2_S2_QA60','3_S2_QA60','3_CLIM_def','3_CLIM_pdsi','4_S2_QA60','5_S2_QA60','6_S2_QA60','7_S2_QA60','8_S2_QA60','9_S2_QA60','10_S2_QA60','11_S2_QA60','4_CLIM_pdsi', '5_CLIM_pdsi', '6_CLIM_pdsi', '7_CLIM_pdsi','8_CLIM_pdsi', '9_CLIM_pdsi', '10_CLIM_pdsi', '11_CLIM_pdsi'], inplace=True)\n",
    "\n",
    "test_sampled1.shape\n",
    "\n",
    "\n",
    "# Get model predictions\n",
    "preds = xgb_model.predict(test_sampled1)\n",
    "\n",
    "# Store them in the submission dataframe and save\n",
    "ss['Yield'] = preds\n",
    "ss.to_csv('Sub.csv', index=False)\n",
    "ss.head()"
   ]
  },
  {
   "cell_type": "code",
   "execution_count": 74,
   "metadata": {},
   "outputs": [
    {
     "data": {
      "text/html": [
       "<div>\n",
       "<style scoped>\n",
       "    .dataframe tbody tr th:only-of-type {\n",
       "        vertical-align: middle;\n",
       "    }\n",
       "\n",
       "    .dataframe tbody tr th {\n",
       "        vertical-align: top;\n",
       "    }\n",
       "\n",
       "    .dataframe thead th {\n",
       "        text-align: right;\n",
       "    }\n",
       "</style>\n",
       "<table border=\"1\" class=\"dataframe\">\n",
       "  <thead>\n",
       "    <tr style=\"text-align: right;\">\n",
       "      <th></th>\n",
       "      <th>Field_ID</th>\n",
       "      <th>Yield</th>\n",
       "    </tr>\n",
       "  </thead>\n",
       "  <tbody>\n",
       "    <tr>\n",
       "      <th>0</th>\n",
       "      <td>E9UZCEA</td>\n",
       "      <td>2.776425</td>\n",
       "    </tr>\n",
       "    <tr>\n",
       "      <th>1</th>\n",
       "      <td>1WGGS1Q</td>\n",
       "      <td>3.264372</td>\n",
       "    </tr>\n",
       "    <tr>\n",
       "      <th>2</th>\n",
       "      <td>EG2KXE2</td>\n",
       "      <td>3.528218</td>\n",
       "    </tr>\n",
       "    <tr>\n",
       "      <th>3</th>\n",
       "      <td>HC3GQXF</td>\n",
       "      <td>3.071500</td>\n",
       "    </tr>\n",
       "    <tr>\n",
       "      <th>4</th>\n",
       "      <td>7AK6GFK</td>\n",
       "      <td>3.040347</td>\n",
       "    </tr>\n",
       "    <tr>\n",
       "      <th>...</th>\n",
       "      <td>...</td>\n",
       "      <td>...</td>\n",
       "    </tr>\n",
       "    <tr>\n",
       "      <th>1050</th>\n",
       "      <td>3H89LWV</td>\n",
       "      <td>3.810681</td>\n",
       "    </tr>\n",
       "    <tr>\n",
       "      <th>1051</th>\n",
       "      <td>I6EYSGB</td>\n",
       "      <td>3.527327</td>\n",
       "    </tr>\n",
       "    <tr>\n",
       "      <th>1052</th>\n",
       "      <td>XOEIR44</td>\n",
       "      <td>2.865948</td>\n",
       "    </tr>\n",
       "    <tr>\n",
       "      <th>1053</th>\n",
       "      <td>YB307JG</td>\n",
       "      <td>3.019299</td>\n",
       "    </tr>\n",
       "    <tr>\n",
       "      <th>1054</th>\n",
       "      <td>8TT86NF</td>\n",
       "      <td>3.905404</td>\n",
       "    </tr>\n",
       "  </tbody>\n",
       "</table>\n",
       "<p>1055 rows × 2 columns</p>\n",
       "</div>"
      ],
      "text/plain": [
       "     Field_ID     Yield\n",
       "0     E9UZCEA  2.776425\n",
       "1     1WGGS1Q  3.264372\n",
       "2     EG2KXE2  3.528218\n",
       "3     HC3GQXF  3.071500\n",
       "4     7AK6GFK  3.040347\n",
       "...       ...       ...\n",
       "1050  3H89LWV  3.810681\n",
       "1051  I6EYSGB  3.527327\n",
       "1052  XOEIR44  2.865948\n",
       "1053  YB307JG  3.019299\n",
       "1054  8TT86NF  3.905404\n",
       "\n",
       "[1055 rows x 2 columns]"
      ]
     },
     "execution_count": 74,
     "metadata": {},
     "output_type": "execute_result"
    }
   ],
   "source": [
    "ss"
   ]
  },
  {
   "cell_type": "markdown",
   "metadata": {
    "id": "EqqwQQqaNFzh"
   },
   "source": [
    "You can submit the Sub.csv file generated here on Zindi. This example scores ~2 (not as good as our score on our local test set, because the fields are more geographically separated). Now let's chat about ways to make this better:"
   ]
  },
  {
   "cell_type": "markdown",
   "metadata": {
    "id": "Ny_hywBPNDPe"
   },
   "source": [
    "# Improvements\n",
    "\n",
    "\n",
    "1.   For the example above I chose the 'bands of interest' fairly randomly. A bit of research into which Sentinel 2 bands are used in this kind of task and what the different climate variables are should help make more informed choices there.\n",
    "2.   We looked at all 12 months. Maize is normally planted just before the March-May rainy season (I think?) and harvested a few months later. Choose which months you'll prioritise to cut down on less useful data\n",
    "3.   We looked at only the center pixel. Can you use a wider area to get better features? What about finding which pixels are most likely fields and sampling those?\n",
    "4.   We did no model tuning, so obviously lots of fun to be had there\n",
    "5.   Low-quality locations are often not fields - leave these out of your training set for better results. There are no low-quality (Quality=1) fields in the test set.\n",
    "6.   Common measures such as NDVI, EVI etc can be computed by combining different bands. Look up how these vegetative indices are calculated for sentinel 2 and see if you can add those as features.\n",
    "6.   ... As always, be creative - I'm sure there are lots more improvements to be made\n",
    "\n"
   ]
  }
 ],
 "metadata": {
  "colab": {
   "name": "Starter Notebook - CGIAR Yield Estimation.ipynb",
   "provenance": [],
   "toc_visible": true
  },
  "kernelspec": {
   "display_name": "Python 3",
   "language": "python",
   "name": "python3"
  },
  "language_info": {
   "codemirror_mode": {
    "name": "ipython",
    "version": 3
   },
   "file_extension": ".py",
   "mimetype": "text/x-python",
   "name": "python",
   "nbconvert_exporter": "python",
   "pygments_lexer": "ipython3",
   "version": "3.7.6"
  }
 },
 "nbformat": 4,
 "nbformat_minor": 1
}
